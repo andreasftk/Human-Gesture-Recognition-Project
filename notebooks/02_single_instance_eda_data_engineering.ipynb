{
 "cells": [
  {
   "cell_type": "code",
   "execution_count": null,
   "metadata": {},
   "outputs": [],
   "source": [
    "import os\n",
    "import pandas as pd\n",
    "import matplotlib.pyplot as plt\n",
    "import yaml\n",
    "from utils.data_processing import df_rebase, butter_lowpass_filter, split_windows\n",
    "\n",
    "# Load configuration\n",
    "config_path = os.path.join(os.getcwd(), \"..\", \"config.yml\")\n",
    "with open(config_path) as file:\n",
    "    config = yaml.load(file, Loader=yaml.FullLoader)\n",
    "\n",
    "# Load single instance data\n",
    "single_instance_path = os.path.join(os.getcwd(), \"..\", config[\"single_instance_path\"])\n",
    "df = pd.read_csv(single_instance_path)\n",
    "df = df_rebase(df, config['order'], config['rename'])\n",
    "\n",
    "# Plot the time-length of the instance\n",
    "time_length = df.shape[0]\n",
    "plt.bar([\"Instance\"], [time_length])\n",
    "plt.ylabel('Time-length (samples)')\n",
    "plt.title('Time-length of Single Instance')\n",
    "plt.show()\n",
    "\n",
    "# Split data into fixed windows\n",
    "window_size = config[\"sliding_window\"][\"ws\"]\n",
    "overlap = config[\"sliding_window\"][\"overlap\"]\n",
    "windows = split_windows(df, window_size, overlap)\n",
    "\n",
    "# Filter the data\n",
    "cutoff = config[\"filter\"][\"wn\"]\n",
    "fs = 50  # Sample rate\n",
    "order = config[\"filter\"][\"order\"]\n",
    "\n",
    "df[\"acc_x\"] = butter_lowpass_filter(df[\"acc_x\"], cutoff, fs, order)\n",
    "df[\"acc_y\"] = butter_lowpass_filter(df[\"acc_y\"], cutoff, fs, order)\n",
    "df[\"acc_z\"] = butter_lowpass_filter(df[\"acc_z\"], cutoff, fs, order)\n",
    "\n",
    "# Transform data into frequency domain\n",
    "df_fft = pd.DataFrame(np.abs(np.fft.fft(df, axis=0)), columns=df.columns)\n",
    "\n",
    "# Visualize time-series instance after filtering\n",
    "plt.figure(figsize=(12, 6))\n",
    "plt.plot(df[\"acc_x\"], label='acc_x')\n",
    "plt.plot(df[\"acc_y\"], label='acc_y')\n",
    "plt.plot(df[\"acc_z\"], label='acc_z')\n",
    "plt.xlabel('Samples')\n",
    "plt.ylabel('Amplitude')\n",
    "plt.title('Filtered Signal')\n",
    "plt.legend()\n",
    "plt.show()\n"
   ]
  }
 ],
 "metadata": {
  "language_info": {
   "name": "python"
  }
 },
 "nbformat": 4,
 "nbformat_minor": 2
}
