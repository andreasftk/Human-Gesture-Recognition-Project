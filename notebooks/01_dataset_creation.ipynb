{
 "cells": [
  {
   "cell_type": "code",
   "execution_count": null,
   "metadata": {},
   "outputs": [],
   "source": [
    "import os\n",
    "import pandas as pd\n",
    "import pymongo\n",
    "import yaml\n",
    "from datetime import datetime\n",
    "from utils.data_processing import df_rebase\n",
    "\n",
    "# Load configuration\n",
    "config_path = os.path.join(os.getcwd(), \"..\", \"config.yml\")\n",
    "with open(config_path) as file:\n",
    "    config = yaml.load(file, Loader=yaml.FullLoader)\n",
    "\n",
    "# Connect to MongoDB\n",
    "client = pymongo.MongoClient(config[\"client\"])\n",
    "db = client[config[\"db\"]]\n",
    "col = db[config[\"col\"]]\n",
    "\n",
    "# Load dataset and upload to MongoDB\n",
    "data_path = os.path.join(os.getcwd(), \"..\", config[\"data_path\"])\n",
    "\n",
    "def upload_data(data_path, col):\n",
    "    classes_folders_list = [f for f in os.listdir(data_path) if os.path.isdir(os.path.join(data_path, f))]\n",
    "    for class_folder in classes_folders_list:\n",
    "        class_folder_path = os.path.join(data_path, class_folder)\n",
    "        files_in_folder = [f for f in os.listdir(class_folder_path) if os.path.isfile(os.path.join(class_folder_path, f))]\n",
    "        for file in files_in_folder:\n",
    "            file_path = os.path.join(class_folder_path, file)\n",
    "            df = pd.read_csv(file_path)\n",
    "            df = df_rebase(df, config['order'], config['rename'])\n",
    "            document = {\n",
    "                \"data\": df.to_dict('list'),\n",
    "                \"label\": class_folder,\n",
    "                \"datetime\": datetime.now()\n",
    "            }\n",
    "            col.insert_one(document)\n",
    "\n",
    "upload_data(data_path, col)\n"
   ]
  }
 ],
 "metadata": {
  "language_info": {
   "name": "python"
  }
 },
 "nbformat": 4,
 "nbformat_minor": 2
}
